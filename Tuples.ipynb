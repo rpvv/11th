{
  "nbformat": 4,
  "nbformat_minor": 0,
  "metadata": {
    "colab": {
      "name": "Tuples.ipynb",
      "provenance": [],
      "authorship_tag": "ABX9TyNU3Byb+UzIcYIfwss28xp7",
      "include_colab_link": true
    },
    "kernelspec": {
      "name": "python3",
      "display_name": "Python 3"
    }
  },
  "cells": [
    {
      "cell_type": "markdown",
      "metadata": {
        "id": "view-in-github",
        "colab_type": "text"
      },
      "source": [
        "<a href=\"https://colab.research.google.com/github/rpvv/11th/blob/main/Tuples.ipynb\" target=\"_parent\"><img src=\"https://colab.research.google.com/assets/colab-badge.svg\" alt=\"Open In Colab\"/></a>"
      ]
    },
    {
      "cell_type": "markdown",
      "metadata": {
        "id": "o8DIE92k0UMO"
      },
      "source": [
        "# Tuples are Read-Only(List).\r\n",
        "# We cannot change the elements of the tuple like-insert,delete and updation"
      ]
    },
    {
      "cell_type": "code",
      "metadata": {
        "colab": {
          "base_uri": "https://localhost:8080/"
        },
        "id": "4C5wlXkPxNSm",
        "outputId": "8073157b-d192-46d2-8b72-692a56d0a836"
      },
      "source": [
        "tup1=(0,1,2,3)\r\n",
        "print (tup1)\r\n",
        "print (type(tup1))"
      ],
      "execution_count": null,
      "outputs": [
        {
          "output_type": "stream",
          "text": [
            "(0, 1, 2, 3)\n",
            "<class 'tuple'>\n"
          ],
          "name": "stdout"
        }
      ]
    },
    {
      "cell_type": "markdown",
      "metadata": {
        "id": "vzcwnWvW1Tod"
      },
      "source": [
        "Blank Tuple"
      ]
    },
    {
      "cell_type": "code",
      "metadata": {
        "colab": {
          "base_uri": "https://localhost:8080/"
        },
        "id": "IrDYjmXA1F2R",
        "outputId": "6c597efe-654c-41b6-e540-0a04e3cce895"
      },
      "source": [
        "tup1=()\r\n",
        "tup2=tuple()\r\n",
        "print (tup1)\r\n",
        "print(tup2)"
      ],
      "execution_count": null,
      "outputs": [
        {
          "output_type": "stream",
          "text": [
            "()\n",
            "()\n"
          ],
          "name": "stdout"
        }
      ]
    },
    {
      "cell_type": "markdown",
      "metadata": {
        "id": "-pKZxCOGbAul"
      },
      "source": [
        "Creating Blank LIST"
      ]
    },
    {
      "cell_type": "code",
      "metadata": {
        "colab": {
          "base_uri": "https://localhost:8080/"
        },
        "id": "Cl9ji3uKa2OA",
        "outputId": "be13f80c-2590-4f0c-f280-860aff67830b"
      },
      "source": [
        "li1=[]\r\n",
        "li2=list()\r\n",
        "#li2=list[] it will give error because list is function used here it should be closed within the roundal brackets not square brackets\r\n",
        "print (li1)\r\n",
        "print(li2)"
      ],
      "execution_count": null,
      "outputs": [
        {
          "output_type": "stream",
          "text": [
            "[]\n",
            "[]\n"
          ],
          "name": "stdout"
        }
      ]
    },
    {
      "cell_type": "code",
      "metadata": {
        "colab": {
          "base_uri": "https://localhost:8080/"
        },
        "id": "1ZvQM9GR1YdA",
        "outputId": "2d87440a-92a4-4de4-83b5-ce3550dd16b7"
      },
      "source": [
        "tup1=1,2,3\r\n",
        "print(tup1)\r\n",
        "print(type(tup1))"
      ],
      "execution_count": null,
      "outputs": [
        {
          "output_type": "stream",
          "text": [
            "(1, 2, 3)\n",
            "<class 'tuple'>\n"
          ],
          "name": "stdout"
        }
      ]
    },
    {
      "cell_type": "markdown",
      "metadata": {
        "id": "NusaXLpo1wtW"
      },
      "source": [
        "Nested Tuple"
      ]
    },
    {
      "cell_type": "code",
      "metadata": {
        "colab": {
          "base_uri": "https://localhost:8080/"
        },
        "id": "r4lwFKlY1tJX",
        "outputId": "28627a4e-e01a-41d1-d65d-eebb92c0f27d"
      },
      "source": [
        "tup1=((1,2,3),(4,5,6))\r\n",
        "print(tup1)"
      ],
      "execution_count": null,
      "outputs": [
        {
          "output_type": "stream",
          "text": [
            "((1, 2, 3), (4, 5, 6))\n"
          ],
          "name": "stdout"
        }
      ]
    },
    {
      "cell_type": "markdown",
      "metadata": {
        "id": "H8yu_icQ2AEG"
      },
      "source": [
        "Lists within tuple\r\n"
      ]
    },
    {
      "cell_type": "code",
      "metadata": {
        "colab": {
          "base_uri": "https://localhost:8080/"
        },
        "id": "9LtXu6u12G8n",
        "outputId": "2cfd0f29-3798-4bff-ea0e-50b958be05da"
      },
      "source": [
        "List1=[1,2,3]\r\n",
        "List2=[4,5,6]\r\n",
        "print(List1,List2,sep=\"#\")\r\n",
        "tup1=(List1,List2)\r\n",
        "print(tup1)"
      ],
      "execution_count": null,
      "outputs": [
        {
          "output_type": "stream",
          "text": [
            "[1, 2, 3]#[4, 5, 6]\n",
            "([1, 2, 3], [4, 5, 6])\n"
          ],
          "name": "stdout"
        }
      ]
    },
    {
      "cell_type": "markdown",
      "metadata": {
        "id": "OnKXPTKq2r4F"
      },
      "source": [
        "Tuple having list and strings"
      ]
    },
    {
      "cell_type": "code",
      "metadata": {
        "colab": {
          "base_uri": "https://localhost:8080/"
        },
        "id": "OyNSMjY72wgV",
        "outputId": "aea58ac4-9171-49cb-e7e1-20ad32e23508"
      },
      "source": [
        "tup1=(List1,\"abc\",\"cbse\")\r\n",
        "print(tup1)"
      ],
      "execution_count": null,
      "outputs": [
        {
          "output_type": "stream",
          "text": [
            "([1, 2, 3], 'abc', 'cbse')\n"
          ],
          "name": "stdout"
        }
      ]
    },
    {
      "cell_type": "markdown",
      "metadata": {
        "id": "xSs5aI8o3RE-"
      },
      "source": [
        "Tuples are Immutable means the objects cannot be changed"
      ]
    },
    {
      "cell_type": "code",
      "metadata": {
        "colab": {
          "base_uri": "https://localhost:8080/",
          "height": 215
        },
        "id": "fAix1Od63dfl",
        "outputId": "cdf44552-c029-4ddd-886b-558d4bee0054"
      },
      "source": [
        "tup1=(1,2,3,4,5,6)\r\n",
        "print(tup1)\r\n",
        "tup1[2]=10"
      ],
      "execution_count": null,
      "outputs": [
        {
          "output_type": "stream",
          "text": [
            "(1, 2, 3, 4, 5, 6)\n"
          ],
          "name": "stdout"
        },
        {
          "output_type": "error",
          "ename": "TypeError",
          "evalue": "ignored",
          "traceback": [
            "\u001b[0;31m---------------------------------------------------------------------------\u001b[0m",
            "\u001b[0;31mTypeError\u001b[0m                                 Traceback (most recent call last)",
            "\u001b[0;32m<ipython-input-13-78392c71e5d6>\u001b[0m in \u001b[0;36m<module>\u001b[0;34m()\u001b[0m\n\u001b[1;32m      1\u001b[0m \u001b[0mtup1\u001b[0m\u001b[0;34m=\u001b[0m\u001b[0;34m(\u001b[0m\u001b[0;36m1\u001b[0m\u001b[0;34m,\u001b[0m\u001b[0;36m2\u001b[0m\u001b[0;34m,\u001b[0m\u001b[0;36m3\u001b[0m\u001b[0;34m,\u001b[0m\u001b[0;36m4\u001b[0m\u001b[0;34m,\u001b[0m\u001b[0;36m5\u001b[0m\u001b[0;34m,\u001b[0m\u001b[0;36m6\u001b[0m\u001b[0;34m)\u001b[0m\u001b[0;34m\u001b[0m\u001b[0;34m\u001b[0m\u001b[0m\n\u001b[1;32m      2\u001b[0m \u001b[0mprint\u001b[0m\u001b[0;34m(\u001b[0m\u001b[0mtup1\u001b[0m\u001b[0;34m)\u001b[0m\u001b[0;34m\u001b[0m\u001b[0;34m\u001b[0m\u001b[0m\n\u001b[0;32m----> 3\u001b[0;31m \u001b[0mtup1\u001b[0m\u001b[0;34m[\u001b[0m\u001b[0;36m2\u001b[0m\u001b[0;34m]\u001b[0m\u001b[0;34m=\u001b[0m\u001b[0;36m10\u001b[0m\u001b[0;34m\u001b[0m\u001b[0;34m\u001b[0m\u001b[0m\n\u001b[0m",
            "\u001b[0;31mTypeError\u001b[0m: 'tuple' object does not support item assignment"
          ]
        }
      ]
    },
    {
      "cell_type": "code",
      "metadata": {
        "colab": {
          "base_uri": "https://localhost:8080/"
        },
        "id": "IRCUNgdy3xYs",
        "outputId": "aff99491-06ce-4762-f3b9-5f9a33a1dcfa"
      },
      "source": [
        "list1=[1,2,3,4,5,6]\r\n",
        "print(\"Before Updation\",list1)\r\n",
        "list1[2]=10\r\n",
        "print(\"After Updation\",list1)"
      ],
      "execution_count": null,
      "outputs": [
        {
          "output_type": "stream",
          "text": [
            "Before Updation [1, 2, 3, 4, 5, 6]\n",
            "After Updation [1, 2, 10, 4, 5, 6]\n"
          ],
          "name": "stdout"
        }
      ]
    },
    {
      "cell_type": "markdown",
      "metadata": {
        "id": "Iz7eFejJ4Smf"
      },
      "source": [
        "Creating Tuple with Single Element--we have to include the final comma after the single value it is mandatory"
      ]
    },
    {
      "cell_type": "code",
      "metadata": {
        "colab": {
          "base_uri": "https://localhost:8080/"
        },
        "id": "TQoO5Yni4XQF",
        "outputId": "e84d988a-ab30-492f-c8cc-d86c7fabd48a"
      },
      "source": [
        "t1=(\"a\")\r\n",
        "print (t1)\r\n",
        "print(type(t1))\r\n",
        "t2=(\"a\",)\r\n",
        "print(t2)\r\n",
        "print(type(t2))"
      ],
      "execution_count": null,
      "outputs": [
        {
          "output_type": "stream",
          "text": [
            "a\n",
            "<class 'str'>\n",
            "('a',)\n",
            "<class 'tuple'>\n"
          ],
          "name": "stdout"
        }
      ]
    },
    {
      "cell_type": "code",
      "metadata": {
        "colab": {
          "base_uri": "https://localhost:8080/"
        },
        "id": "IjGKoHRU45SU",
        "outputId": "08741fc0-d2e4-4fc0-eaac-54207431b8c9"
      },
      "source": [
        "l1=[1]\r\n",
        "print (l1)\r\n",
        "print(type(l1))\r\n",
        "l2=[1,]\r\n",
        "print(l2)\r\n",
        "print(type(l2))"
      ],
      "execution_count": null,
      "outputs": [
        {
          "output_type": "stream",
          "text": [
            "[1]\n",
            "<class 'list'>\n",
            "[1]\n",
            "<class 'list'>\n"
          ],
          "name": "stdout"
        }
      ]
    },
    {
      "cell_type": "markdown",
      "metadata": {
        "id": "YrtIXf_g5iJR"
      },
      "source": [
        "User input for List\r\n",
        "\r\n",
        "```\r\n",
        "```\r\n",
        "\r\n"
      ]
    },
    {
      "cell_type": "code",
      "metadata": {
        "colab": {
          "base_uri": "https://localhost:8080/"
        },
        "id": "QUo4eOu95qpT",
        "outputId": "3b2d00ff-86f6-431b-c907-29c41672f2fa"
      },
      "source": [
        "l=list(input(\"enter Elements \"))\r\n",
        "print(l)\r\n"
      ],
      "execution_count": null,
      "outputs": [
        {
          "output_type": "stream",
          "text": [
            "enter Elements 123\n",
            "['1', '2', '3']\n"
          ],
          "name": "stdout"
        }
      ]
    },
    {
      "cell_type": "code",
      "metadata": {
        "colab": {
          "base_uri": "https://localhost:8080/"
        },
        "id": "di_QMv-x6OmS",
        "outputId": "8f2204cb-fc65-457e-f665-3a5c20a43ede"
      },
      "source": [
        "l=[]\r\n",
        "n=int(input(\"Enter the range \"))\r\n",
        "i=1\r\n",
        "while(i<=n):\r\n",
        "  a=int(input(\"Enter the number \"))\r\n",
        "  l.append(a)\r\n",
        "  i=i+1\r\n",
        "print(l)"
      ],
      "execution_count": null,
      "outputs": [
        {
          "output_type": "stream",
          "text": [
            "Enter the range 3\n",
            "Enter the number 1\n",
            "Enter the number 2\n",
            "Enter the number 3\n",
            "[1, 2, 3]\n"
          ],
          "name": "stdout"
        }
      ]
    },
    {
      "cell_type": "code",
      "metadata": {
        "colab": {
          "base_uri": "https://localhost:8080/"
        },
        "id": "SSc_x00d7b9K",
        "outputId": "84245177-9bbd-4158-cd88-87ec11dec250"
      },
      "source": [
        "#l=[]\r\n",
        "l=list() \r\n",
        "n=int(input(\"Enter the range \"))\r\n",
        "for i in range(n):\r\n",
        "  a=int(input(\"Enter the number \"))\r\n",
        "  l.append(a)\r\n",
        "print(l)"
      ],
      "execution_count": null,
      "outputs": [
        {
          "output_type": "stream",
          "text": [
            "Enter the range 3\n",
            "Enter the number 1\n",
            "Enter the number 2\n",
            "Enter the number 3\n",
            "[1, 2, 3]\n"
          ],
          "name": "stdout"
        }
      ]
    },
    {
      "cell_type": "markdown",
      "metadata": {
        "id": "CxPaokYH8krJ"
      },
      "source": [
        "User input Through Tuple"
      ]
    },
    {
      "cell_type": "code",
      "metadata": {
        "colab": {
          "base_uri": "https://localhost:8080/"
        },
        "id": "Ez6L39xB8od0",
        "outputId": "0b413489-0f00-4dbe-aa59-9394c6606ce6"
      },
      "source": [
        "#t=()\r\n",
        "t=tuple()\r\n",
        "n=int(input(\"Enter the range \"))\r\n",
        "i=1\r\n",
        "while(i<=n):\r\n",
        "  a=int(input(\"Enter the number \"))\r\n",
        "  t=t+(a,)  \r\n",
        "  i=i+1\r\n",
        "print(t)"
      ],
      "execution_count": null,
      "outputs": [
        {
          "output_type": "stream",
          "text": [
            "Enter the range 3\n",
            "Enter the number 1\n",
            "Enter the number 2\n",
            "Enter the number 3\n",
            "(1, 2, 3)\n"
          ],
          "name": "stdout"
        }
      ]
    },
    {
      "cell_type": "code",
      "metadata": {
        "colab": {
          "base_uri": "https://localhost:8080/"
        },
        "id": "68m4tCkH8zud",
        "outputId": "49d3b2b7-511a-4d7c-ba40-7d26a035f863"
      },
      "source": [
        "t=(1)\r\n",
        "n=int(input(\"Enter the range \"))\r\n",
        "for i in range(n):\r\n",
        "  a=int(input(\"Enter the number \"))\r\n",
        "  t=t+(a,)\r\n",
        "print(t)"
      ],
      "execution_count": null,
      "outputs": [
        {
          "output_type": "stream",
          "text": [
            "Enter the range 3\n",
            "Enter the number 1\n",
            "Enter the number 2\n",
            "Enter the number 3\n",
            "(1, 2, 3)\n"
          ],
          "name": "stdout"
        }
      ]
    },
    {
      "cell_type": "code",
      "metadata": {
        "colab": {
          "base_uri": "https://localhost:8080/"
        },
        "id": "zi9kTnNr9ZtA",
        "outputId": "357578bd-d808-4d3b-f15d-f23def9d5973"
      },
      "source": [
        "\r\n",
        "t=tuple(input(\"enter Elements \"))\r\n",
        "print(t)\r\n",
        "for i in t:\r\n",
        "  print(i,end=\" \")\r\n",
        "print(\" second for loop\")\r\n",
        "#index wise printing\r\n",
        "for i in range (len(t)):  \r\n",
        "  print(t[i],end=\" \")\r\n",
        "\r\n",
        "#print(\"a\",\"b\",\"c\",sep=\"#\",end=\" \")"
      ],
      "execution_count": null,
      "outputs": [
        {
          "output_type": "stream",
          "text": [
            "enter Elements rpvv\n",
            "('r', 'p', 'v', 'v')\n",
            "r p v v  second for loop\n",
            "r p v v "
          ],
          "name": "stdout"
        }
      ]
    },
    {
      "cell_type": "code",
      "metadata": {
        "colab": {
          "base_uri": "https://localhost:8080/"
        },
        "id": "bTrD7o1w9pC_",
        "outputId": "bd8ee27e-5450-4d3c-cfe7-8c63a11fc533"
      },
      "source": [
        "t=eval(input(\"enter elements \"))\r\n",
        "print(t)\r\n",
        "print(type(t))"
      ],
      "execution_count": null,
      "outputs": [
        {
          "output_type": "stream",
          "text": [
            "enter elements 1,2,345,\"r\",\"doe\"\n",
            "(1, 2, 345, 'r', 'doe')\n",
            "<class 'tuple'>\n"
          ],
          "name": "stdout"
        }
      ]
    },
    {
      "cell_type": "markdown",
      "metadata": {
        "id": "0mZ3x_sAFcBE"
      },
      "source": [
        "Assignment to be done"
      ]
    },
    {
      "cell_type": "code",
      "metadata": {
        "colab": {
          "base_uri": "https://localhost:8080/"
        },
        "id": "jI_NOVv9_ex0",
        "outputId": "986c9f09-0327-48b1-9098-3b9f6001315c"
      },
      "source": [
        "t=((1,\"Mehandi\",90),(2,\"Anjum\",95),(3,\"Alhmad\",95))\r\n",
        "print(\"Roll no\",\"Name\",\"Marks\")\r\n",
        "for i in range(0,len(t)):\r\n",
        "  print(t[i][0])"
      ],
      "execution_count": null,
      "outputs": [
        {
          "output_type": "stream",
          "text": [
            "Roll no Name Marks\n",
            "1\n",
            "2\n",
            "3\n"
          ],
          "name": "stdout"
        }
      ]
    },
    {
      "cell_type": "markdown",
      "metadata": {
        "id": "eOPHw6SdFgcw"
      },
      "source": [
        "# **SLICING**"
      ]
    },
    {
      "cell_type": "code",
      "metadata": {
        "id": "AGCF9ohvFjQz"
      },
      "source": [
        "#a=(\"RPVV\",\"SCHOOL\",\"CLASS\",\"SCIENCE\",11,\"CBSE\",\"DOE\",\"NEAR\",\"DDA\",\"VIKAS\",\"SADAN\")\r\n",
        "a=(1,2,3,4,5,6,7,8,9,10,11)\r\n",
        "#a=(\"a\",\"b\",\"c\",\"d\",\"e\",\"f\",\"g\",\"h\",\"i\",\"j\",\"k\")\r\n",
        "#a=\"RPVV SCHOOL\" \r\n",
        "#a=tuple(a)\r\n",
        "# +ve indexing 0 1 2 3 4 5 6 7 8 9 10 \r\n",
        "# -ve indexing -11,-10,-9,-8,-7,-6,-5,-4,-3,-2,-1"
      ],
      "execution_count": null,
      "outputs": []
    },
    {
      "cell_type": "markdown",
      "metadata": {
        "id": "JI1Swi8eFrdx"
      },
      "source": [
        "Print All elements of tuple"
      ]
    },
    {
      "cell_type": "code",
      "metadata": {
        "colab": {
          "base_uri": "https://localhost:8080/"
        },
        "id": "_Ks-Qx0QFvfm",
        "outputId": "580fe220-9784-4eeb-ac00-72f0c82d3b6b"
      },
      "source": [
        "print(a)\r\n",
        "print(a[:])\r\n",
        "print(a[0:])\r\n",
        "print(a[-11:])\r\n",
        "print(a[:3]+a[3:])\r\n",
        "print(a[:3])#first three element\r\n",
        "print(a[3:])#after 4th element to till last\r\n",
        "print(a[-11:-1])#last element sadan will not be printed\r\n",
        "print(a[-11:0])#blank tuple"
      ],
      "execution_count": null,
      "outputs": [
        {
          "output_type": "stream",
          "text": [
            "(1, 2, 3, 4, 5, 6, 7, 8, 9, 10, 11)\n",
            "(1, 2, 3, 4, 5, 6, 7, 8, 9, 10, 11)\n",
            "(1, 2, 3, 4, 5, 6, 7, 8, 9, 10, 11)\n",
            "(1, 2, 3, 4, 5, 6, 7, 8, 9, 10, 11)\n",
            "(1, 2, 3, 4, 5, 6, 7, 8, 9, 10, 11)\n",
            "(1, 2, 3)\n",
            "(4, 5, 6, 7, 8, 9, 10, 11)\n",
            "(1, 2, 3, 4, 5, 6, 7, 8, 9, 10)\n",
            "()\n"
          ],
          "name": "stdout"
        }
      ]
    },
    {
      "cell_type": "code",
      "metadata": {
        "colab": {
          "base_uri": "https://localhost:8080/"
        },
        "id": "VMany16gC9gC",
        "outputId": "fd446854-3693-4f90-ca9a-5f78a9ca83af"
      },
      "source": [
        "print(a[5:8])\r\n",
        "print(a[5:-3])"
      ],
      "execution_count": null,
      "outputs": [
        {
          "output_type": "stream",
          "text": [
            "(6, 7, 8)\n",
            "(6, 7, 8)\n"
          ],
          "name": "stdout"
        }
      ]
    },
    {
      "cell_type": "code",
      "metadata": {
        "colab": {
          "base_uri": "https://localhost:8080/"
        },
        "id": "wgCfsTORDMcz",
        "outputId": "f0b527d8-8a86-4e53-ae1a-9ae14d70e8db"
      },
      "source": [
        "print(a[5:6])\r\n",
        "print(a[5])\r\n",
        "print(a[5:-5])"
      ],
      "execution_count": null,
      "outputs": [
        {
          "output_type": "stream",
          "text": [
            "(6,)\n",
            "6\n",
            "(6,)\n"
          ],
          "name": "stdout"
        }
      ]
    },
    {
      "cell_type": "code",
      "metadata": {
        "colab": {
          "base_uri": "https://localhost:8080/"
        },
        "id": "6LRwUww4DZDD",
        "outputId": "a659ef67-6f03-474f-8758-9088ef7fb264"
      },
      "source": [
        "print(a[-1])\r\n",
        "print(a[10])\r\n",
        "print(a[10:15])"
      ],
      "execution_count": null,
      "outputs": [
        {
          "output_type": "stream",
          "text": [
            "11\n",
            "11\n",
            "(11,)\n"
          ],
          "name": "stdout"
        }
      ]
    },
    {
      "cell_type": "code",
      "metadata": {
        "colab": {
          "base_uri": "https://localhost:8080/"
        },
        "id": "eoEtg8vHD0UI",
        "outputId": "618ea98f-c5fc-4a38-d5f6-b45b02fe7965"
      },
      "source": [
        "print(a[1],a[5],a[-1])"
      ],
      "execution_count": null,
      "outputs": [
        {
          "output_type": "stream",
          "text": [
            "2 6 11\n"
          ],
          "name": "stdout"
        }
      ]
    },
    {
      "cell_type": "code",
      "metadata": {
        "colab": {
          "base_uri": "https://localhost:8080/"
        },
        "id": "F-ybXcGOECoc",
        "outputId": "4ce1f4e2-463c-415e-b570-1d9b377c9c78"
      },
      "source": [
        "print(a[0:-1])\r\n",
        "print(a[0:10])\r\n",
        "print(a[:10])\r\n",
        "print(a[:-1])"
      ],
      "execution_count": null,
      "outputs": [
        {
          "output_type": "stream",
          "text": [
            "(1, 2, 3, 4, 5, 6, 7, 8, 9, 10)\n",
            "(1, 2, 3, 4, 5, 6, 7, 8, 9, 10)\n",
            "(1, 2, 3, 4, 5, 6, 7, 8, 9, 10)\n",
            "(1, 2, 3, 4, 5, 6, 7, 8, 9, 10)\n"
          ],
          "name": "stdout"
        }
      ]
    },
    {
      "cell_type": "code",
      "metadata": {
        "colab": {
          "base_uri": "https://localhost:8080/"
        },
        "id": "vBt_2rLMEJTX",
        "outputId": "aef9b10c-83c7-439a-ea46-7e855b3810fd"
      },
      "source": [
        "print(a[1:11])\r\n",
        "print(a[1:])\r\n",
        "print(a[-10:])"
      ],
      "execution_count": null,
      "outputs": [
        {
          "output_type": "stream",
          "text": [
            "(2, 3, 4, 5, 6, 7, 8, 9, 10, 11)\n",
            "(2, 3, 4, 5, 6, 7, 8, 9, 10, 11)\n",
            "(2, 3, 4, 5, 6, 7, 8, 9, 10, 11)\n"
          ],
          "name": "stdout"
        }
      ]
    },
    {
      "cell_type": "code",
      "metadata": {
        "colab": {
          "base_uri": "https://localhost:8080/"
        },
        "id": "bJ--AwxrEN0Z",
        "outputId": "39565b0f-3c23-432c-98d9-fdb7dd334a7b"
      },
      "source": [
        "print(a[0],a[3],a[6],a[9])\r\n",
        "print(a[0:10:3])\r\n",
        "print(a[-12:-1:3])"
      ],
      "execution_count": null,
      "outputs": [
        {
          "output_type": "stream",
          "text": [
            "1 4 7 10\n",
            "(1, 4, 7, 10)\n",
            "()\n",
            "(1, 4, 7, 10)\n"
          ],
          "name": "stdout"
        }
      ]
    },
    {
      "cell_type": "code",
      "metadata": {
        "colab": {
          "base_uri": "https://localhost:8080/"
        },
        "id": "CIG4gORvEWms",
        "outputId": "7f1fe380-0b19-47c4-9064-2806c951025d"
      },
      "source": [
        "print(a[-2:-12:-3])\r\n",
        "print(a[-2::-3])\r\n",
        "#print(a[0:10:-3]) not possible because lower index is positive"
      ],
      "execution_count": null,
      "outputs": [
        {
          "output_type": "stream",
          "text": [
            "(10, 7, 4, 1)\n",
            "(10, 7, 4, 1)\n"
          ],
          "name": "stdout"
        }
      ]
    },
    {
      "cell_type": "code",
      "metadata": {
        "colab": {
          "base_uri": "https://localhost:8080/"
        },
        "id": "DyPDE3dOEdli",
        "outputId": "56ff4b53-cb5a-429b-e3d7-3c78b41b6fc8"
      },
      "source": [
        "print(a[::-1])\r\n",
        "print(a[10::-1])\r\n",
        "print(a[-1::-1])\r\n",
        "print(a[-1:-12:-1])"
      ],
      "execution_count": null,
      "outputs": [
        {
          "output_type": "stream",
          "text": [
            "(11, 10, 9, 8, 7, 6, 5, 4, 3, 2, 1)\n",
            "(11, 10, 9, 8, 7, 6, 5, 4, 3, 2, 1)\n",
            "(11, 10, 9, 8, 7, 6, 5, 4, 3, 2, 1)\n",
            "(11, 10, 9, 8, 7, 6, 5, 4, 3, 2, 1)\n"
          ],
          "name": "stdout"
        }
      ]
    },
    {
      "cell_type": "code",
      "metadata": {
        "colab": {
          "base_uri": "https://localhost:8080/"
        },
        "id": "eYtnDJNhEiTg",
        "outputId": "1b3cc671-5d4c-4d9e-f339-9f8e15aeaab4"
      },
      "source": [
        "print(a[:11]+a[::-1])"
      ],
      "execution_count": null,
      "outputs": [
        {
          "output_type": "stream",
          "text": [
            "(1, 2, 3, 4, 5, 6, 7, 8, 9, 10, 11, 11, 10, 9, 8, 7, 6, 5, 4, 3, 2, 1)\n"
          ],
          "name": "stdout"
        }
      ]
    },
    {
      "cell_type": "markdown",
      "metadata": {
        "id": "UPnaL9yIPUvn"
      },
      "source": [
        "# Accessing a tuple"
      ]
    },
    {
      "cell_type": "code",
      "metadata": {
        "colab": {
          "base_uri": "https://localhost:8080/"
        },
        "id": "WootiTwyPrzC",
        "outputId": "7bab783f-4ae2-4dab-9b0b-a0072069e65f"
      },
      "source": [
        "a1=(\"a\",\"b\",\"c\")\r\n",
        "a2=(\"d\",\"e\",\"f\")\r\n",
        "a3=(\"g\",\"h\",\"i\")\r\n",
        "a4=(\"j\",\"k\",\"l\")\r\n",
        "a5=(a1,a2,a3,a4)\r\n",
        "print(a5)"
      ],
      "execution_count": null,
      "outputs": [
        {
          "output_type": "stream",
          "text": [
            "(('a', 'b', 'c'), ('d', 'e', 'f'), ('g', 'h', 'i'), ('j', 'k', 'l'))\n"
          ],
          "name": "stdout"
        }
      ]
    },
    {
      "cell_type": "markdown",
      "metadata": {
        "id": "TToCry-GQn_X"
      },
      "source": [
        "Printing the elements"
      ]
    },
    {
      "cell_type": "code",
      "metadata": {
        "colab": {
          "base_uri": "https://localhost:8080/"
        },
        "id": "taW9o9PTQdJU",
        "outputId": "b176fdee-3da4-4456-be3c-fb2ad2b076b3"
      },
      "source": [
        "print(a1[0])\r\n",
        "print(a5[0][0])\r\n",
        "print(a5[1][1])\r\n",
        "print(a2[1])"
      ],
      "execution_count": null,
      "outputs": [
        {
          "output_type": "stream",
          "text": [
            "a\n",
            "a\n",
            "e\n",
            "e\n"
          ],
          "name": "stdout"
        }
      ]
    },
    {
      "cell_type": "markdown",
      "metadata": {
        "id": "mN-jQuF5WdAs"
      },
      "source": [
        "Index out of range error"
      ]
    },
    {
      "cell_type": "code",
      "metadata": {
        "colab": {
          "base_uri": "https://localhost:8080/",
          "height": 164
        },
        "id": "3pq7g76eWgVL",
        "outputId": "b88b77e3-ff4a-44ee-92ed-ee7b912c3a87"
      },
      "source": [
        "print(a1[3])"
      ],
      "execution_count": null,
      "outputs": [
        {
          "output_type": "error",
          "ename": "IndexError",
          "evalue": "ignored",
          "traceback": [
            "\u001b[0;31m---------------------------------------------------------------------------\u001b[0m",
            "\u001b[0;31mIndexError\u001b[0m                                Traceback (most recent call last)",
            "\u001b[0;32m<ipython-input-16-4fec05a9e6b9>\u001b[0m in \u001b[0;36m<module>\u001b[0;34m()\u001b[0m\n\u001b[0;32m----> 1\u001b[0;31m \u001b[0mprint\u001b[0m\u001b[0;34m(\u001b[0m\u001b[0ma1\u001b[0m\u001b[0;34m[\u001b[0m\u001b[0;36m3\u001b[0m\u001b[0;34m]\u001b[0m\u001b[0;34m)\u001b[0m\u001b[0;34m\u001b[0m\u001b[0;34m\u001b[0m\u001b[0m\n\u001b[0m",
            "\u001b[0;31mIndexError\u001b[0m: tuple index out of range"
          ]
        }
      ]
    },
    {
      "cell_type": "markdown",
      "metadata": {
        "id": "XBZf8xVxWsjK"
      },
      "source": [
        "Membership function -- in , not"
      ]
    },
    {
      "cell_type": "code",
      "metadata": {
        "id": "GN3naWltWz-e"
      },
      "source": [
        "print(\"b\" in a1)\r\n",
        "print(\"m\" not in a1)"
      ],
      "execution_count": null,
      "outputs": []
    },
    {
      "cell_type": "markdown",
      "metadata": {
        "id": "vQngkcJdabwm"
      },
      "source": [
        "Converting String into List and tuple using the function"
      ]
    },
    {
      "cell_type": "code",
      "metadata": {
        "id": "PF9QXt7xZ1x4"
      },
      "source": [
        "a=\"RPVV SCHOOL\" \r\n",
        "b=list(a)\r\n",
        "print(\"converted list is\",b)\r\n",
        "print(type(b))\r\n",
        "c=tuple(a)\r\n",
        "print(\"converted tuple is\",c)\r\n",
        "print(type(c))\r\n",
        "\r\n"
      ],
      "execution_count": null,
      "outputs": []
    },
    {
      "cell_type": "code",
      "metadata": {
        "id": "3IFxDuKkRSjB"
      },
      "source": [
        "a1=[\"a\",\"b\",\"c\"]\r\n",
        "a2=[\"d\",\"e\",\"f\"]\r\n",
        "a3=[\"g\",\"h\",\"i\"]\r\n",
        "a4=[\"j\",\"k\",\"l\"]\r\n",
        "a5=[a1,a2,a3,a4]\r\n",
        "print(a5)\r\n",
        "print(a1[0])\r\n",
        "print(a5[0][0])"
      ],
      "execution_count": null,
      "outputs": []
    },
    {
      "cell_type": "markdown",
      "metadata": {
        "id": "cHsFHmt_dEZ1"
      },
      "source": [
        "Repetition or replicating the tuple"
      ]
    },
    {
      "cell_type": "code",
      "metadata": {
        "colab": {
          "base_uri": "https://localhost:8080/"
        },
        "id": "1HYXYhXudmSM",
        "outputId": "24f45039-8e07-4711-f449-4892cc49b02f"
      },
      "source": [
        "t1=(\"hello\",)\r\n",
        "print(t1*4,sep=\" \")"
      ],
      "execution_count": null,
      "outputs": [
        {
          "output_type": "stream",
          "text": [
            "('hello', 'hello', 'hello', 'hello')\n"
          ],
          "name": "stdout"
        }
      ]
    },
    {
      "cell_type": "markdown",
      "metadata": {
        "id": "k5gfvWK2eXnI"
      },
      "source": [
        "Deleting a tuple\r\n"
      ]
    },
    {
      "cell_type": "code",
      "metadata": {
        "colab": {
          "base_uri": "https://localhost:8080/",
          "height": 215
        },
        "id": "krgthqUYemfV",
        "outputId": "4e3fc6ee-ee54-4399-bffd-1f663bfc67a4"
      },
      "source": [
        "t1=(10,20,30,40)\r\n",
        "print(t1)\r\n",
        "del(t1)     #complete deletion of tuple  is allowed but not individual elements\r\n",
        "print(t1)  #gives error because t1 tuple is deleted in above line "
      ],
      "execution_count": null,
      "outputs": [
        {
          "output_type": "stream",
          "text": [
            "(10, 20, 30, 40)\n"
          ],
          "name": "stdout"
        },
        {
          "output_type": "error",
          "ename": "NameError",
          "evalue": "ignored",
          "traceback": [
            "\u001b[0;31m---------------------------------------------------------------------------\u001b[0m",
            "\u001b[0;31mNameError\u001b[0m                                 Traceback (most recent call last)",
            "\u001b[0;32m<ipython-input-48-ecc15d38471c>\u001b[0m in \u001b[0;36m<module>\u001b[0;34m()\u001b[0m\n\u001b[1;32m      2\u001b[0m \u001b[0mprint\u001b[0m\u001b[0;34m(\u001b[0m\u001b[0mt1\u001b[0m\u001b[0;34m)\u001b[0m\u001b[0;34m\u001b[0m\u001b[0;34m\u001b[0m\u001b[0m\n\u001b[1;32m      3\u001b[0m \u001b[0;32mdel\u001b[0m\u001b[0;34m(\u001b[0m\u001b[0mt1\u001b[0m\u001b[0;34m)\u001b[0m     \u001b[0;31m#complete deletion of tuple  is allowed but not individual elements\u001b[0m\u001b[0;34m\u001b[0m\u001b[0;34m\u001b[0m\u001b[0m\n\u001b[0;32m----> 4\u001b[0;31m \u001b[0mprint\u001b[0m\u001b[0;34m(\u001b[0m\u001b[0mt1\u001b[0m\u001b[0;34m)\u001b[0m\u001b[0;34m\u001b[0m\u001b[0;34m\u001b[0m\u001b[0m\n\u001b[0m",
            "\u001b[0;31mNameError\u001b[0m: name 't1' is not defined"
          ]
        }
      ]
    },
    {
      "cell_type": "markdown",
      "metadata": {
        "id": "uCefQkWbfc4u"
      },
      "source": [
        "# TUPLE Functions and Methods"
      ]
    },
    {
      "cell_type": "code",
      "metadata": {
        "id": "UlSHFcwIfnDH"
      },
      "source": [
        "t1=(10,20,30,40,50,60)\r\n",
        "#t1=(\"maths\",\"science\",\"computer\")\r\n",
        "#t1=(10,20,30,\"rpvv\",\"cbse\")"
      ],
      "execution_count": null,
      "outputs": []
    },
    {
      "cell_type": "markdown",
      "metadata": {
        "id": "0SOD7fZCf5TH"
      },
      "source": [
        "Len function is used to return the number of elements in the tuple"
      ]
    },
    {
      "cell_type": "code",
      "metadata": {
        "colab": {
          "base_uri": "https://localhost:8080/"
        },
        "id": "QCg1ErhOftsK",
        "outputId": "03810f6e-c633-42a6-c1db-167e2bfcb9b7"
      },
      "source": [
        "print(len(t1))  \r\n"
      ],
      "execution_count": null,
      "outputs": [
        {
          "output_type": "stream",
          "text": [
            "6\n"
          ],
          "name": "stdout"
        }
      ]
    },
    {
      "cell_type": "markdown",
      "metadata": {
        "id": "kx-WRxSOgBlc"
      },
      "source": [
        "Max function is used to return maximum value\r\n",
        "min function is used to return minimum value\r\n",
        "'>' not supported between instances of 'str' and 'int' so tuple should be of same type either of string or of integer but not mixed"
      ]
    },
    {
      "cell_type": "code",
      "metadata": {
        "colab": {
          "base_uri": "https://localhost:8080/"
        },
        "id": "hZrKik6rf2nD",
        "outputId": "f2a1e4df-ad22-450b-82e0-b443f8d9f53e"
      },
      "source": [
        "print(max(t1))\r\n",
        "print(min(t1))"
      ],
      "execution_count": null,
      "outputs": [
        {
          "output_type": "stream",
          "text": [
            "60\n",
            "10\n"
          ],
          "name": "stdout"
        }
      ]
    },
    {
      "cell_type": "markdown",
      "metadata": {
        "id": "V0oK484UhaUN"
      },
      "source": [
        "Index function it reurn the index value of the given element and if the element not present then ValueError: tuple.index(x): x not in tuple will occur"
      ]
    },
    {
      "cell_type": "code",
      "metadata": {
        "colab": {
          "base_uri": "https://localhost:8080/"
        },
        "id": "Ml_p-St_hodR",
        "outputId": "a772123b-2967-4bf8-bb73-eff0ddf88725"
      },
      "source": [
        "print(t1.index(20))\r\n",
        "#print(t1.index(5)) value error"
      ],
      "execution_count": null,
      "outputs": [
        {
          "output_type": "stream",
          "text": [
            "1\n"
          ],
          "name": "stdout"
        }
      ]
    },
    {
      "cell_type": "markdown",
      "metadata": {
        "id": "LsF_fAKSiBtU"
      },
      "source": [
        "Count function it will return how many times the given element is in the tuple."
      ]
    },
    {
      "cell_type": "code",
      "metadata": {
        "colab": {
          "base_uri": "https://localhost:8080/"
        },
        "id": "qA92PrsDiQWR",
        "outputId": "57124fe0-79e9-4f28-8b71-eea50d309ac4"
      },
      "source": [
        "print(t1.count(50))"
      ],
      "execution_count": null,
      "outputs": [
        {
          "output_type": "stream",
          "text": [
            "1\n"
          ],
          "name": "stdout"
        }
      ]
    },
    {
      "cell_type": "markdown",
      "metadata": {
        "id": "3G9aHHyliib8"
      },
      "source": [
        "Tuple function is used to convert the sequence(list,string,dictionary) but it can notbe used with single element"
      ]
    },
    {
      "cell_type": "code",
      "metadata": {
        "colab": {
          "base_uri": "https://localhost:8080/"
        },
        "id": "sM_9Z6x3i9I0",
        "outputId": "6a28a500-9a0b-4d6b-c609-e5c2fcd80c08"
      },
      "source": [
        "a=\"rpvv\"  #string\r\n",
        "b=[1,2,3]  #list\r\n",
        "#c=10   #TypeError: 'int' object is not iterable\r\n",
        "d=(10,)\r\n",
        "t1=tuple(a)\r\n",
        "t2=tuple(b)\r\n",
        "#t3=tuple(c)\r\n",
        "t4=tuple(d)\r\n",
        "print(t1,type(t1))\r\n",
        "print(t2,type(t2))\r\n",
        "#print(t3,type(t3))\r\n",
        "print(t4,type(t4))"
      ],
      "execution_count": null,
      "outputs": [
        {
          "output_type": "stream",
          "text": [
            "('r', 'p', 'v', 'v') <class 'tuple'>\n",
            "(1, 2, 3) <class 'tuple'>\n",
            "(10,) <class 'tuple'>\n"
          ],
          "name": "stdout"
        }
      ]
    },
    {
      "cell_type": "markdown",
      "metadata": {
        "id": "1CmteSFXkHD3"
      },
      "source": [
        "Indirectly modifying tuples using unpcaking LHS should be equal to RHS if not it will give error ValueError: too many values to unpack"
      ]
    },
    {
      "cell_type": "code",
      "metadata": {
        "colab": {
          "base_uri": "https://localhost:8080/"
        },
        "id": "wnXaCp6NkGSk",
        "outputId": "bd7fc6bf-60ad-4d78-c82c-ff1bddfa1255"
      },
      "source": [
        "t1=(10,20,30,40)\r\n",
        "a,b,c,d=t1\r\n",
        "a,b,c,d=10,20,30,40\r\n",
        "a=10\r\n",
        "b=20\r\n",
        "c=30\r\n",
        "d=40\r\n",
        "print(t1)\r\n",
        "print(b)\r\n",
        "print(t1[1])\r\n"
      ],
      "execution_count": null,
      "outputs": [
        {
          "output_type": "stream",
          "text": [
            "(10, 20, 30, 40)\n",
            "20\n",
            "20\n"
          ],
          "name": "stdout"
        }
      ]
    },
    {
      "cell_type": "code",
      "metadata": {
        "colab": {
          "base_uri": "https://localhost:8080/"
        },
        "id": "cnEMsOF7mJCJ",
        "outputId": "438a9bc8-1de0-4a87-9c29-9e63f17ef964"
      },
      "source": [
        "#t1[1]=60  # TypeError: 'tuple' object does not support item assignment\r\n",
        "b=60\r\n",
        "t1=(a,b,c,d)\r\n",
        "print(t1)"
      ],
      "execution_count": null,
      "outputs": [
        {
          "output_type": "stream",
          "text": [
            "(10, 60, 30, 40)\n"
          ],
          "name": "stdout"
        }
      ]
    },
    {
      "cell_type": "markdown",
      "metadata": {
        "id": "vS1K_WkInB_H"
      },
      "source": [
        "First convert tuple into List (because list are mutable means we can change the elements in list) after that convert the list into tuple using the TUPLE function"
      ]
    },
    {
      "cell_type": "code",
      "metadata": {
        "colab": {
          "base_uri": "https://localhost:8080/"
        },
        "id": "ZbGya882kl4_",
        "outputId": "90b66823-cbed-4da7-edc0-40b7e724311c"
      },
      "source": [
        "print(\"before updation of tuple\",t1)\r\n",
        "li=list(t1)\r\n",
        "li[1]=70\r\n",
        "print(\"list printing: \" ,li)\r\n",
        "t2=tuple(li)\r\n",
        "print(\"tuple printing: \",t2)"
      ],
      "execution_count": null,
      "outputs": [
        {
          "output_type": "stream",
          "text": [
            "before updation of tuple (10, 60, 30, 40)\n",
            "list printing:  [10, 70, 30, 40]\n",
            "tuple printing:  (10, 70, 30, 40)\n"
          ],
          "name": "stdout"
        }
      ]
    },
    {
      "cell_type": "code",
      "metadata": {
        "colab": {
          "base_uri": "https://localhost:8080/"
        },
        "id": "3zUAX2XQp9tO",
        "outputId": "fa811ea8-8de5-4f98-c56b-16d6fd847c2c"
      },
      "source": [
        "tuple3 = (10,20,30,[40,50])\r\n",
        "print(tuple3[3])\r\n",
        "print(tuple3[3][0])"
      ],
      "execution_count": null,
      "outputs": [
        {
          "output_type": "stream",
          "text": [
            "[40, 50]\n",
            "40\n"
          ],
          "name": "stdout"
        }
      ]
    }
  ]
}